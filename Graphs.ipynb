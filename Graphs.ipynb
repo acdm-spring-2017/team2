{
 "cells": [
  {
   "cell_type": "code",
   "execution_count": 4,
   "metadata": {
    "collapsed": true
   },
   "outputs": [],
   "source": [
    "import pandas as pd\n",
    "df = pd.read_csv('pittsburgharrestdata.csv')\n",
    "from pandas import *\n",
    "\n",
    "race = list(df[\"RACE\"])\n",
    "age = list(df[\"AGE\"])\n",
    "gender = list(df[\"GENDER\"])\n",
    "arresttime = list(df[\"ARRESTTIME\"])\n",
    "arrestlocation = list(df[\"ARRESTLOCATION\"])\n",
    "offenses = list(df[\"OFFENSES\"])\n",
    "location = list(df[\"INCIDENTLOCATION\"])\n",
    "neighborhood = list(df[\"INCIDENTNEIGHBORHOOD\"])\n",
    "zone = list(df[\"INCIDENTZONE\"])\n",
    "lat = list(df[\"X\"])\n",
    "long = list(df[\"Y\"])\n",
    "\n"
   ]
  },
  {
   "cell_type": "code",
   "execution_count": 12,
   "metadata": {
    "collapsed": false
   },
   "outputs": [
    {
     "data": {
      "text/html": [
       "<iframe id=\"igraph\" scrolling=\"no\" style=\"border:none;\" seamless=\"seamless\" src=\"https://plot.ly/~eac85/45.embed\" height=\"525px\" width=\"100%\"></iframe>"
      ],
      "text/plain": [
       "<plotly.tools.PlotlyDisplay object>"
      ]
     },
     "execution_count": 12,
     "metadata": {},
     "output_type": "execute_result"
    }
   ],
   "source": [
    "import plotly.plotly as py\n",
    "import plotly.graph_objs as go\n",
    "\n",
    "trace0 = go.Bar(\n",
    "    x= neighborhood,\n",
    "    y= age,\n",
    "    text= offenses,\n",
    "    marker=dict(\n",
    "        color='rgb(158,202,225)',\n",
    "        line=dict(\n",
    "            color='rgb(8,48,107)',\n",
    "            width=1.5,\n",
    "        )\n",
    "    ),\n",
    "    opacity=0.6\n",
    ")\n",
    "\n",
    "data = [trace0]\n",
    "layout = go.Layout(\n",
    "    title='January 2013 Sales Report',\n",
    ")\n",
    "\n",
    "fig = go.Figure(data=data, layout=layout)\n",
    "py.iplot(fig, filename='text-hover-bar')"
   ]
  },
  {
   "cell_type": "code",
   "execution_count": null,
   "metadata": {
    "collapsed": true
   },
   "outputs": [],
   "source": []
  }
 ],
 "metadata": {
  "kernelspec": {
   "display_name": "Python 3",
   "language": "python",
   "name": "python3"
  },
  "language_info": {
   "codemirror_mode": {
    "name": "ipython",
    "version": 3
   },
   "file_extension": ".py",
   "mimetype": "text/x-python",
   "name": "python",
   "nbconvert_exporter": "python",
   "pygments_lexer": "ipython3",
   "version": "3.6.0"
  }
 },
 "nbformat": 4,
 "nbformat_minor": 2
}
