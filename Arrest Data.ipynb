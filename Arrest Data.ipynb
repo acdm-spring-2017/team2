{
 "cells": [
  {
   "cell_type": "code",
   "execution_count": 5,
   "metadata": {
    "collapsed": true
   },
   "outputs": [],
   "source": [
    "import pandas as pd\n",
    "df = pd.read_csv('pittsburgharrestdata.csv')\n",
    "from pandas import *"
   ]
  },
  {
   "cell_type": "code",
   "execution_count": 6,
   "metadata": {
    "collapsed": false
   },
   "outputs": [],
   "source": [
    "race = list(df[\"RACE\"])\n",
    "age = list(df[\"AGE\"])\n",
    "gender = list(df[\"GENDER\"])\n",
    "arresttime = list(df[\"ARRESTTIME\"])\n",
    "arrestlocation = list(df[\"ARRESTLOCATION\"])\n",
    "offenses = list(df[\"OFFENSES\"])\n",
    "location = list(df[\"INCIDENTLOCATION\"])\n",
    "neighborhood = list(df[\"INCIDENTNEIGHBORHOOD\"])\n",
    "zone = list(df[\"INCIDENTZONE\"])\n",
    "lat = list(df[\"X\"])\n",
    "long = list(df[\"Y\"])"
   ]
  },
  {
   "cell_type": "code",
   "execution_count": 21,
   "metadata": {
    "collapsed": true
   },
   "outputs": [],
   "source": [
    "import pandas as pd\n",
    "df2 =  pd.read_csv('pittsburgharrestdata.csv')\n",
    "from pandas import *\n",
    "\n",
    "raceW = list(df2[\"RACE\"])\n",
    "ageW = list(df2[\"AGE\"])\n",
    "genderW = list(df2[\"GENDER\"])\n",
    "arresttimeW = list(df2[\"ARRESTTIME\"])\n",
    "arrestlocationW = list(df2[\"ARRESTLOCATION\"])\n",
    "offensesW = list(df2[\"OFFENSES\"])\n",
    "locationW = list(df2[\"INCIDENTLOCATION\"])\n",
    "neighborhoodW = list(df2[\"INCIDENTNEIGHBORHOOD\"])\n",
    "zoneW = list(df2[\"INCIDENTZONE\"])\n",
    "latW = list(df2[\"X\"])\n",
    "longW = list(df2[\"Y\"])"
   ]
  },
  {
   "cell_type": "code",
   "execution_count": 20,
   "metadata": {
    "collapsed": false
   },
   "outputs": [
    {
     "data": {
      "text/html": [
       "<iframe id=\"igraph\" scrolling=\"no\" style=\"border:none;\" seamless=\"seamless\" src=\"https://plot.ly/~eac85/47.embed\" height=\"525px\" width=\"100%\"></iframe>"
      ],
      "text/plain": [
       "<plotly.tools.PlotlyDisplay object>"
      ]
     },
     "execution_count": 20,
     "metadata": {},
     "output_type": "execute_result"
    }
   ],
   "source": [
    "import plotly.plotly as py\n",
    "import pandas as pd\n",
    "from plotly.graph_objs import *\n",
    "\n",
    "data = [ dict(\n",
    "        type = 'scattergeo',\n",
    "        locationmode = 'Pennsylvania',\n",
    "        lon = lat,\n",
    "        lat = long,\n",
    "        text = offenses,\n",
    "        mode = 'markers',\n",
    "        marker = dict(\n",
    "            size = 8,\n",
    "            opacity = 0.8,\n",
    "            color = '#FFA500',\n",
    "            symbol = 'square',\n",
    "            cmin = 0,\n",
    "           \n",
    "            )\n",
    "        )]\n",
    "\n",
    "           \n",
    "\n",
    "layout = dict(\n",
    "        Layout(\n",
    "        paper_bgcolor='rgba(0,0,0,0)',\n",
    "        plot_bgcolor='rgba(0,0,0,0)'\n",
    "            ),\n",
    "        title = 'Arrests in Allegheny County',\n",
    "        colorbar = False,\n",
    "        geo = dict(\n",
    "            scope='world',\n",
    "           projection=dict( type='mercator' ),\n",
    "             \n",
    "            showrivers = True,\n",
    "            showland = True,\n",
    "            landcolor = \"rgb(250, 250, 250)\",\n",
    "            subunitcolor = \"rgb(217, 217, 217)\",\n",
    "            countrycolor = \"rgb(217, 217, 217)\",\n",
    "            countrywidth = 0.2,\n",
    "            subunitwidth = 0.5,\n",
    "            \n",
    "        ),\n",
    "            lonaxis = dict( range= [ -80.0, -75.0 ] ),\n",
    "            lataxis = dict( range= [ 35.0, 40.0 ] ),\n",
    "            domain = dict(\n",
    "            x = [ 0, 1 ],\n",
    "            y = [ 0, 1 ]\n",
    "        )\n",
    "    )\n",
    "           \n",
    "    \n",
    "fig = dict(data=data, layout=layout )\n",
    "py.iplot( fig, validate=False, filename='d3-airports' )"
   ]
  },
  {
   "cell_type": "code",
   "execution_count": null,
   "metadata": {
    "collapsed": true
   },
   "outputs": [],
   "source": []
  },
  {
   "cell_type": "code",
   "execution_count": null,
   "metadata": {
    "collapsed": true
   },
   "outputs": [],
   "source": []
  }
 ],
 "metadata": {
  "kernelspec": {
   "display_name": "Python 3",
   "language": "python",
   "name": "python3"
  },
  "language_info": {
   "codemirror_mode": {
    "name": "ipython",
    "version": 3
   },
   "file_extension": ".py",
   "mimetype": "text/x-python",
   "name": "python",
   "nbconvert_exporter": "python",
   "pygments_lexer": "ipython3",
   "version": "3.6.0"
  }
 },
 "nbformat": 4,
 "nbformat_minor": 2
}
